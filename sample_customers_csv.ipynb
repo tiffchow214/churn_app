{
  "nbformat": 4,
  "nbformat_minor": 0,
  "metadata": {
    "colab": {
      "provenance": [],
      "authorship_tag": "ABX9TyPXG/gfkTFKx+MH00OOy/RC",
      "include_colab_link": true
    },
    "kernelspec": {
      "name": "python3",
      "display_name": "Python 3"
    },
    "language_info": {
      "name": "python"
    }
  },
  "cells": [
    {
      "cell_type": "markdown",
      "metadata": {
        "id": "view-in-github",
        "colab_type": "text"
      },
      "source": [
        "<a href=\"https://colab.research.google.com/github/tiffchow214/churn_app_huggingface/blob/main/sample_customers_csv.ipynb\" target=\"_parent\"><img src=\"https://colab.research.google.com/assets/colab-badge.svg\" alt=\"Open In Colab\"/></a>"
      ]
    },
    {
      "cell_type": "code",
      "execution_count": 1,
      "metadata": {
        "colab": {
          "base_uri": "https://localhost:8080/"
        },
        "id": "_a6lHk0NqQZI",
        "outputId": "64433f42-8b03-476a-f14d-9d62920c74a3"
      },
      "outputs": [
        {
          "output_type": "stream",
          "name": "stdout",
          "text": [
            "   tenure_months  delivery_distance_km  num_devices  satisfaction_score  \\\n",
            "0             27                   3.8            2                   3   \n",
            "1             60                  14.4            2                   2   \n",
            "2             60                   7.0            2                   3   \n",
            "3             23                   9.2            2                   4   \n",
            "4             58                   9.4            3                   3   \n",
            "5             50                   7.5            2                   1   \n",
            "6             39                  10.5            1                   3   \n",
            "7             51                   3.7            1                   5   \n",
            "8             46                  11.9            2                   3   \n",
            "9             59                   0.6            2                   4   \n",
            "\n",
            "   num_addresses  days_since_last_order  cashback_amount  complaint  \\\n",
            "0              1                      0           112.25          0   \n",
            "1              1                     11            60.95          0   \n",
            "2              1                     17            90.77          1   \n",
            "3              1                     28           106.59          0   \n",
            "4              1                     11           164.03          0   \n",
            "5              2                     11            78.19          0   \n",
            "6              1                      2           173.51          0   \n",
            "7              1                      0             0.00          0   \n",
            "8              1                     55            15.33          1   \n",
            "9              2                      7           125.33          0   \n",
            "\n",
            "   preferred_category marital_status  \n",
            "0        Mobile Phone         Single  \n",
            "1              Others         Single  \n",
            "2              Others         Single  \n",
            "3  Laptop & Accessory         Single  \n",
            "4              Others         Single  \n",
            "5  Laptop & Accessory         Single  \n",
            "6        Mobile Phone         Single  \n",
            "7              Others         Single  \n",
            "8        Mobile Phone         Single  \n",
            "9              Others         Single  \n",
            "\n",
            "Saved → /content/sample_customers.csv  shape=(50, 10)\n"
          ]
        }
      ],
      "source": [
        "import numpy as np\n",
        "import pandas as pd\n",
        "\n",
        "def make_synthetic_customers(n=50, seed=42):\n",
        "    rng = np.random.default_rng(seed)\n",
        "\n",
        "    # 1) Core fields\n",
        "    tenure_months = rng.integers(0, 61, size=n)  # 0–60 months\n",
        "    delivery_distance_km = np.clip(np.round(rng.gamma(2.0, 5.0, size=n), 1), 0, 60)  # skewed 0–60\n",
        "    num_devices = rng.choice([1,2,3,4,5], size=n, p=[0.25,0.35,0.25,0.10,0.05])\n",
        "    num_addresses = rng.choice([1,2,3], size=n, p=[0.70,0.25,0.05])\n",
        "\n",
        "    # 2) Complaint & satisfaction (loosely coupled)\n",
        "    complaint = rng.choice([0,1], size=n, p=[0.85,0.15]).astype(int)\n",
        "    base_sat = rng.normal(loc=3.7, scale=0.9, size=n) - complaint*1.2\n",
        "    satisfaction_score = np.clip(np.round(base_sat), 1, 5).astype(int)\n",
        "\n",
        "    # 3) Days since last order (heavy tail)\n",
        "    days_since_last_order = np.clip(rng.exponential(scale=20, size=n).astype(int), 0, 120)\n",
        "\n",
        "    # 4) Cashback (a bit higher when satisfied, lower when complaint=1)\n",
        "    cashback_amount = np.round(\n",
        "        np.clip(rng.normal(120, 60, size=n) + (satisfaction_score-3)*15 - complaint*30, 0, 400), 2\n",
        "    )\n",
        "\n",
        "    # 5) Categories & marital status\n",
        "    preferred_category = rng.choice(\n",
        "        [\"Laptop & Accessory\", \"Mobile Phone\", \"Others\"], size=n, p=[0.35, 0.35, 0.30]\n",
        "    )\n",
        "    marital_status = rng.choice([\"Married\", \"Single\"], size=n, p=[0.45, 0.55])\n",
        "\n",
        "    df = pd.DataFrame({\n",
        "        \"tenure_months\": tenure_months,\n",
        "        \"delivery_distance_km\": delivery_distance_km,\n",
        "        \"num_devices\": num_devices,\n",
        "        \"satisfaction_score\": satisfaction_score,\n",
        "        \"num_addresses\": num_addresses,\n",
        "        \"days_since_last_order\": days_since_last_order,\n",
        "        \"cashback_amount\": cashback_amount,\n",
        "        \"complaint\": complaint,\n",
        "        \"preferred_category\": preferred_category,\n",
        "        \"marital_status\": marital_status,\n",
        "    })\n",
        "\n",
        "    # Ensure exact column order expected by your app\n",
        "    cols = [\n",
        "        \"tenure_months\",\"delivery_distance_km\",\"num_devices\",\"satisfaction_score\",\n",
        "        \"num_addresses\",\"days_since_last_order\",\"cashback_amount\",\n",
        "        \"complaint\",\"preferred_category\",\"marital_status\"\n",
        "    ]\n",
        "    return df[cols]\n",
        "\n",
        "# ---- Generate & preview ----\n",
        "N_ROWS = 50\n",
        "SEED = 2025\n",
        "\n",
        "df = make_synthetic_customers(n=N_ROWS, seed=SEED)\n",
        "print(df.head(10))  # quick preview\n",
        "save_path = \"/content/sample_customers.csv\"\n",
        "df.to_csv(save_path, index=False)\n",
        "print(f\"\\nSaved → {save_path}  shape={df.shape}\")"
      ]
    },
    {
      "cell_type": "code",
      "source": [
        "from google.colab import files\n",
        "files.download(\"/content/sample_customers.csv\")"
      ],
      "metadata": {
        "colab": {
          "base_uri": "https://localhost:8080/",
          "height": 17
        },
        "id": "OFOG7HB0qbPb",
        "outputId": "e59d8333-3d14-430a-b836-9daf7ced672e"
      },
      "execution_count": 2,
      "outputs": [
        {
          "output_type": "display_data",
          "data": {
            "text/plain": [
              "<IPython.core.display.Javascript object>"
            ],
            "application/javascript": [
              "\n",
              "    async function download(id, filename, size) {\n",
              "      if (!google.colab.kernel.accessAllowed) {\n",
              "        return;\n",
              "      }\n",
              "      const div = document.createElement('div');\n",
              "      const label = document.createElement('label');\n",
              "      label.textContent = `Downloading \"${filename}\": `;\n",
              "      div.appendChild(label);\n",
              "      const progress = document.createElement('progress');\n",
              "      progress.max = size;\n",
              "      div.appendChild(progress);\n",
              "      document.body.appendChild(div);\n",
              "\n",
              "      const buffers = [];\n",
              "      let downloaded = 0;\n",
              "\n",
              "      const channel = await google.colab.kernel.comms.open(id);\n",
              "      // Send a message to notify the kernel that we're ready.\n",
              "      channel.send({})\n",
              "\n",
              "      for await (const message of channel.messages) {\n",
              "        // Send a message to notify the kernel that we're ready.\n",
              "        channel.send({})\n",
              "        if (message.buffers) {\n",
              "          for (const buffer of message.buffers) {\n",
              "            buffers.push(buffer);\n",
              "            downloaded += buffer.byteLength;\n",
              "            progress.value = downloaded;\n",
              "          }\n",
              "        }\n",
              "      }\n",
              "      const blob = new Blob(buffers, {type: 'application/binary'});\n",
              "      const a = document.createElement('a');\n",
              "      a.href = window.URL.createObjectURL(blob);\n",
              "      a.download = filename;\n",
              "      div.appendChild(a);\n",
              "      a.click();\n",
              "      div.remove();\n",
              "    }\n",
              "  "
            ]
          },
          "metadata": {}
        },
        {
          "output_type": "display_data",
          "data": {
            "text/plain": [
              "<IPython.core.display.Javascript object>"
            ],
            "application/javascript": [
              "download(\"download_557eb895-cb82-4725-a3ce-c8eec316b549\", \"sample_customers.csv\", 2365)"
            ]
          },
          "metadata": {}
        }
      ]
    },
    {
      "cell_type": "code",
      "source": [],
      "metadata": {
        "id": "xTbGiQx1qkMM"
      },
      "execution_count": null,
      "outputs": []
    }
  ]
}